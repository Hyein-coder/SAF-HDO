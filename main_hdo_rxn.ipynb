{
 "cells": [
  {
   "cell_type": "code",
   "id": "initial_id",
   "metadata": {
    "ExecuteTime": {
     "end_time": "2025-09-26T07:47:56.122410Z",
     "start_time": "2025-09-26T07:47:40.227420Z"
    }
   },
   "source": [
    "import os\n",
    "import win32com.client as win32\n",
    "import time\n",
    "import pandas as pd\n",
    "\n",
    "aspen = win32.Dispatch(\"Apwn.Document\")\n",
    "\"\"\"\n",
    "CHECK if the reaction indices are correct\n",
    "\"\"\"\n",
    "aspen.InitFromArchive2(os.path.abspath(\"D:/saf_hdo/aspen/250926_pyrolysis_oil_CC.apw\"))\n",
    "aspen.Visible = True\n",
    "aspen.SuppressDialogs = True"
   ],
   "outputs": [],
   "execution_count": 41
  },
  {
   "metadata": {
    "ExecuteTime": {
     "end_time": "2025-09-26T07:48:00.447716Z",
     "start_time": "2025-09-26T07:47:59.440901Z"
    }
   },
   "cell_type": "code",
   "source": [
    "# aspen.Engine.Run2()\n",
    "rxtor1 = aspen.Tree.FindNode(\"\\Data\\Blocks\\R-201\\Input\\CONV\")\n",
    "rxtor2 = aspen.Tree.FindNode(\"\\Data\\Blocks\\R-202\\Input\\CONV\")\n",
    "rxtor3 = aspen.Tree.FindNode(\"\\Data\\Blocks\\R-203\\Input\\CONV\")\n",
    "\n",
    "hdo_prod = aspen.Tree.FindNode(\"\\Data\\Streams\\\\208\\Output\\MASSFLOW\\MIXED\")"
   ],
   "id": "3446fde435d09533",
   "outputs": [],
   "execution_count": 42
  },
  {
   "metadata": {
    "ExecuteTime": {
     "end_time": "2025-09-26T07:48:21.262583Z",
     "start_time": "2025-09-26T07:48:02.977577Z"
    }
   },
   "cell_type": "code",
   "source": [
    "hdo_WATER = hdo_prod.Elements(\"WATER\")\n",
    "hdo_C21 = hdo_prod.Elements(\"C21H24O5\")\n",
    "\n",
    "print(\"  RXN 30 || Produced WATER || Produced C21H24O5\")\n",
    "print(f\"{rxtor1.Elements('30').Value} || {hdo_WATER.Value} || {hdo_C21.Value}\")\n",
    "\n",
    "rxtor1.Elements(\"30\").Value = 0.1\n",
    "time.sleep(2)\n",
    "aspen.Engine.Run2()\n",
    "time.sleep(2)\n",
    "\n",
    "print(f\"{rxtor1.Elements('30').Value} || {hdo_WATER.Value} || {hdo_C21.Value}\")"
   ],
   "id": "d7512f54aba27d23",
   "outputs": [
    {
     "name": "stdout",
     "output_type": "stream",
     "text": [
      "  RXN 30 || Produced WATER || Produced C21H24O5\n",
      "1.0 || 13649.0654 || 0.0\n",
      "0.1 || 13311.5015 || 1335.68871\n"
     ]
    }
   ],
   "execution_count": 43
  },
  {
   "metadata": {
    "ExecuteTime": {
     "end_time": "2025-09-26T07:49:00.475211Z",
     "start_time": "2025-09-26T07:49:00.280596Z"
    }
   },
   "cell_type": "code",
   "source": [
    "data_path = \"D:\\saf_hdo\\HDO_exp.xlsx\"\n",
    "xls = pd.ExcelFile(data_path)\n",
    "data = pd.read_excel(xls).fillna(0)\n",
    "component_list = [\n",
    "    'BIOMASS', 'WATER', 'H2', 'O2', 'N2', 'AR', 'CO', 'CO2', 'CH4',\n",
    "    'C2H4', 'C2H4O', 'C2H4O2', 'C2H6', 'C2H6O', 'C3H6', 'C3H8',\n",
    "    'C3H8O', 'C3H8O2', 'C4H10', 'C4H4O', 'C4H8O', 'C5H4O2', 'C5H12',\n",
    "    'C6H6', 'C6H6O', 'C6H8O', 'C6H12', 'C6H12O6', 'C6H14', 'C6H14O6',\n",
    "    'C7H8', 'C7H8O', 'C7H14', 'C7H14-CY', 'C7H14-ME', 'C8H10', 'C8H10O',\n",
    "    'C8H16', 'C8H18', 'C8H16-CY', 'C9H10O3', 'C9H18', 'C9H20', 'C9H20-A',\n",
    "    'C10H22-C', 'C11H14O', 'C11H20-C', 'C11H24', 'C12H16O2', 'C12H20-C',\n",
    "    'C12H26', 'C13H18O2', 'C13H20O2', 'C13H26', 'C13H28', 'C14H12',\n",
    "    'C14H20O2', 'C14H28A', 'C14H30', 'C15H28', 'C16H32', 'C16H34',\n",
    "    'C17H34', 'C17H36', 'C18H38', 'C19H24O2', 'C19H38', 'C19H40', 'C20H40',\n",
    "    'C20H42', 'C21H24O5', 'C21H42', 'C22H26O5', 'C22H44', 'C23H28O5',\n",
    "    'C23H46', 'C24H32O3', 'C24H48', 'C25H30O3', 'C25H50', 'C26H42O4',\n",
    "    'C26H52', 'C27H54', 'C28H56', 'C29H58', 'C30H62', 'SO2', 'NO2',\n",
    "    'ACIDS', 'ALDEHYDE', 'KETONES', 'ALCOHOLS', 'GUAIACOL', 'LMWS',\n",
    "    'HMWS', 'EXTRACTI', 'N2COMP', 'SCOMPOUN', 'S', 'C', 'ASH', 'SIO2',\n",
    "    'LMWLA', 'LMWLB', 'HLB', 'NH3'\n",
    "]\n",
    "component_to_carbon_number = {\n",
    "    \"ACIDS\": 4,\n",
    "    \"ALDEHYDE\": 8,\n",
    "    \"KETONES\": 3,\n",
    "    \"ALCOHOLS\": 6,\n",
    "    \"GUAIACOL\": 7,\n",
    "    \"LMWS\": 6,\n",
    "    \"HMWS\": 12,\n",
    "    \"EXTRACTI\": 20,\n",
    "    # \"N2COMP\": 8,\n",
    "    # \"SCOMPOUN\": 12,\n",
    "    \"LMWLA\": 16,\n",
    "    \"LMWLB\": 12,\n",
    "    \"HLB\": 17,\n",
    "}\n",
    "carbon_number_list = data['Carbon'].tolist()\n",
    "carbon_number_to_component = {n: [c for c in component_list if f\"C{n}\" in c] for n in carbon_number_list}\n",
    "for c, n in component_to_carbon_number.items():\n",
    "    if n in carbon_number_list:\n",
    "        carbon_number_to_component[n].append(c)\n",
    "\n",
    "hdo_rxtors = [rxtor1, rxtor2, rxtor3]\n",
    "n_rxns = [len(r.Elements) for r in hdo_rxtors]\n",
    "\n",
    "hdo_prod_composition = [hdo_prod.Elements(c).Value for c in component_list]\n",
    "\n",
    "# node = aspen.Tree.FindNode(f\"\\Data\\Streams\\\\208\\Output\\MASSFLOW\\MIXED\")\n",
    "# massflow = [0 if node.Elements(c).Value is None else node.Elements(c).Value for c in component_list]\n",
    "# total_massflow = sum(massflow)\n",
    "# carbon_number_composition = {n: sum([massflow[component_list.index(c)]/total_massflow for c in cs]) for n, cs in carbon_number_to_component.items()}\n"
   ],
   "id": "aa8ef129a4b2854",
   "outputs": [],
   "execution_count": 44
  },
  {
   "metadata": {
    "ExecuteTime": {
     "end_time": "2025-09-26T07:49:03.948942Z",
     "start_time": "2025-09-26T07:49:03.645838Z"
    }
   },
   "cell_type": "code",
   "source": [
    "def get_carbon_number_composition(stream_no):\n",
    "    node = aspen.Tree.FindNode(f\"\\Data\\Streams\\\\{stream_no}\\Output\\MASSFLOW\\MIXED\")\n",
    "    massflow = [0 if node.Elements(c).Value is None else node.Elements(c).Value for c in component_list]\n",
    "    total_massflow = sum(massflow)\n",
    "    carbon_number_composition = {n: sum([massflow[component_list.index(c)]/total_massflow for c in cs]) for n, cs in carbon_number_to_component.items()}\n",
    "    return carbon_number_composition\n",
    "\n",
    "get_carbon_number_composition(208)"
   ],
   "id": "f711946acedd6568",
   "outputs": [
    {
     "data": {
      "text/plain": [
       "{6: 0.011528005342409471,\n",
       " 7: 0.06529973343538918,\n",
       " 8: 0.07953054738774898,\n",
       " 9: 0.046210619018558996,\n",
       " 10: 0.08025463522701365,\n",
       " 11: 0.04577056770316791,\n",
       " 12: 0.030624007277491157,\n",
       " 13: 0.04183083829540843,\n",
       " 14: 0.023535105045163086,\n",
       " 15: 0.004731827522788802,\n",
       " 16: 0.005458872605904614,\n",
       " 17: 0.004031032243044732,\n",
       " 18: 0.002874330877198539,\n",
       " 19: 5.632251967207836e-06,\n",
       " 20: 0.0011841068894370764,\n",
       " 21: 0.03989936387295031,\n",
       " 22: 0.0,\n",
       " 23: 0.0,\n",
       " 24: 0.0,\n",
       " 25: 0.0,\n",
       " 26: 0.0,\n",
       " 27: 0.0,\n",
       " 28: 0.0,\n",
       " 29: 0.0,\n",
       " 30: 0.0,\n",
       " 31: 0,\n",
       " 32: 0,\n",
       " 33: 0,\n",
       " 34: 0,\n",
       " 35: 0,\n",
       " 36: 0,\n",
       " 37: 0,\n",
       " 38: 0}"
      ]
     },
     "execution_count": 45,
     "metadata": {},
     "output_type": "execute_result"
    }
   ],
   "execution_count": 45
  },
  {
   "metadata": {},
   "cell_type": "markdown",
   "source": "이게 rxn number가 consecutive하지 않고 이따금씩 비어있는 숫자가 있는데.. 그걸 하나씩 찾아내는 함수가 필요할 것으로 보임.",
   "id": "7e03c6b887d1b852"
  },
  {
   "metadata": {
    "ExecuteTime": {
     "end_time": "2025-09-26T08:00:52.655276Z",
     "start_time": "2025-09-26T08:00:44.895467Z"
    }
   },
   "cell_type": "code",
   "source": [
    "case_target = 'a'\n",
    "target_sum = sum(data[case_target])\n",
    "target_data = {n: c / target_sum for n, c in zip(data['Carbon'], data[case_target])}\n",
    "\n",
    "rxn_idx = []\n",
    "for ii, rr in enumerate(hdo_rxtors):\n",
    "    rii = []\n",
    "    for n in range(n_rxns[ii]):\n",
    "        rii.append(n+1)\n",
    "    rxn_idx.append(rii)\n",
    "\n",
    "\n",
    "def apply_rxn(ri_test, rxn_coef):\n",
    "    ri_valid = []\n",
    "    for ii, rii in enumerate(ri_test):\n",
    "        rii_valid = []\n",
    "        for n in range(n_rxns[ii]):\n",
    "            for k in range(10):\n",
    "                try:\n",
    "                    print(f\"Try {rii[n]} for {n}\")\n",
    "                    rxtor1.Elements(f\"{rii[n]}\").Value = rxn_coef[ii][n]\n",
    "                    rii_valid.append(rii[n])\n",
    "                    break\n",
    "                except:\n",
    "                    print(f\"Error: rxtor{ii}--rxn{rii[n]}\")\n",
    "                    rii.remove(rii[n])\n",
    "                    rii.append(rii[-1] + 1)\n",
    "                    print(f\"Appended {rii[-1]}\")\n",
    "\n",
    "        ri_valid.append(rii_valid)\n",
    "\n",
    "    time.sleep(2)\n",
    "    aspen.Engine.Run2()\n",
    "    time.sleep(2)\n",
    "\n",
    "    prod = get_carbon_number_composition(208)\n",
    "    mse = sum((target_data[n] - prod[n])**2 for n in target_data.keys()) * 10\n",
    "    print(f\"Success: {mse}\")\n",
    "    return ri_valid, mse\n",
    "\n",
    "r_new = r_now.copy()\n",
    "r_new[0][29] = 1.0\n",
    "rxn_idx_valid, mse = apply_rxn(rxn_idx, r_new)\n",
    "print(rxn_idx_valid)"
   ],
   "id": "38a4be5266e776bc",
   "outputs": [
    {
     "name": "stdout",
     "output_type": "stream",
     "text": [
      "Try 1 for 0\n",
      "Try 2 for 1\n",
      "Try 3 for 2\n",
      "Try 4 for 3\n",
      "Try 5 for 4\n",
      "Try 6 for 5\n",
      "Try 7 for 6\n",
      "Try 8 for 7\n",
      "Try 9 for 8\n",
      "Try 10 for 9\n",
      "Try 11 for 10\n",
      "Try 12 for 11\n",
      "Try 13 for 12\n",
      "Try 14 for 13\n",
      "Try 15 for 14\n",
      "Try 16 for 15\n",
      "Try 17 for 16\n",
      "Try 18 for 17\n",
      "Try 19 for 18\n",
      "Try 20 for 19\n",
      "Try 21 for 20\n",
      "Try 22 for 21\n",
      "Try 23 for 22\n",
      "Try 24 for 23\n",
      "Try 25 for 24\n",
      "Try 26 for 25\n",
      "Try 27 for 26\n",
      "Try 28 for 27\n",
      "Try 29 for 28\n",
      "Try 30 for 29\n",
      "Try 31 for 30\n",
      "Try 32 for 31\n",
      "Try 33 for 32\n",
      "Try 34 for 33\n",
      "Try 35 for 34\n",
      "Error: rxtor0--rxn35\n",
      "Appended 35\n",
      "Try 35 for 34\n",
      "Error: rxtor0--rxn35\n",
      "Appended 35\n",
      "Try 35 for 34\n",
      "Error: rxtor0--rxn35\n",
      "Appended 35\n",
      "Try 35 for 34\n",
      "Error: rxtor0--rxn35\n",
      "Appended 35\n",
      "Try 35 for 34\n",
      "Error: rxtor0--rxn35\n",
      "Appended 35\n",
      "Try 35 for 34\n",
      "Error: rxtor0--rxn35\n",
      "Appended 35\n",
      "Try 35 for 34\n",
      "Error: rxtor0--rxn35\n",
      "Appended 35\n",
      "Try 35 for 34\n",
      "Error: rxtor0--rxn35\n",
      "Appended 35\n",
      "Try 35 for 34\n",
      "Error: rxtor0--rxn35\n",
      "Appended 35\n",
      "Try 35 for 34\n",
      "Error: rxtor0--rxn35\n",
      "Appended 35\n",
      "Try 1 for 0\n",
      "Try 2 for 1\n",
      "Try 3 for 2\n",
      "Try 4 for 3\n",
      "Try 5 for 4\n",
      "Try 6 for 5\n",
      "Try 7 for 6\n",
      "Try 8 for 7\n",
      "Try 9 for 8\n",
      "Try 10 for 9\n",
      "Try 11 for 10\n",
      "Try 12 for 11\n",
      "Try 13 for 12\n",
      "Try 14 for 13\n",
      "Try 15 for 14\n",
      "Try 16 for 15\n",
      "Try 17 for 16\n",
      "Try 18 for 17\n",
      "Try 19 for 18\n",
      "Try 20 for 19\n",
      "Try 1 for 0\n",
      "Try 2 for 1\n",
      "Try 3 for 2\n",
      "Try 4 for 3\n",
      "Try 5 for 4\n",
      "Try 6 for 5\n",
      "Try 7 for 6\n",
      "Success: 0.24164010181815937\n",
      "[[1, 2, 3, 4, 5, 6, 7, 8, 9, 10, 11, 12, 13, 14, 15, 16, 17, 18, 19, 20, 21, 22, 23, 24, 25, 26, 27, 28, 29, 30, 31, 32, 33, 34], [1, 2, 3, 4, 5, 6, 7, 8, 9, 10, 11, 12, 13, 14, 15, 16, 17, 18, 19, 20], [1, 2, 3, 4, 5, 6, 7]]\n"
     ]
    }
   ],
   "execution_count": 54
  },
  {
   "metadata": {
    "ExecuteTime": {
     "end_time": "2025-09-26T07:28:40.809382Z",
     "start_time": "2025-09-26T07:27:35.219680Z"
    }
   },
   "cell_type": "code",
   "source": [
    "import GPy\n",
    "import GPyOpt\n",
    "from GPyOpt.methods import ModularBayesianOptimization\n",
    "import numpy as np\n",
    "domain = [\n",
    "    {'name': f'rxn1_coef{i}', 'type': 'continuous', 'domain': (0, 1)} for i in range(n_rxns[0])\n",
    "]\n",
    "r_init_np = np.array(r_now[0]).reshape(1, -1)\n",
    "\n",
    "def get_hdo_results_numpy(rxn_coef):\n",
    "    print(rxn_coef)\n",
    "    for n in range(n_rxns[0]):\n",
    "        rxtor1.Elements(f\"{n+1}\").Value = rxn_coef[0, n]\n",
    "\n",
    "    time.sleep(2)\n",
    "    aspen.Engine.Run2()\n",
    "    time.sleep(2)\n",
    "\n",
    "    prod = get_carbon_number_composition(208)\n",
    "    mse = sum((target_data[n] - prod[n])**2 for n in target_data.keys()) * 10\n",
    "    print(f\"Success: {mse}\")\n",
    "    return mse\n",
    "\n",
    "# print(\"Test function:\")\n",
    "# get_hdo_results_numpy(r_init_np)\n",
    "\n",
    "\n",
    "class HDO_Evaluator(object):\n",
    "    def __init__(self):\n",
    "        self.iteration_count = 0  # 반복 횟수 카운터 초기화\n",
    "\n",
    "    def evaluate(self, rxn_coef):\n",
    "        print(f\"현재 BO Iteration: {self.iteration_count}\")\n",
    "        val = get_hdo_results_numpy(rxn_coef)\n",
    "        self.iteration_count += 1\n",
    "        return val\n",
    "\n",
    "\n",
    "# Kernel function for Bayesian optimization: m52\n",
    "m52 = GPy.kern.Matern52(input_dim=r_init_np.shape[1], variance=1.0, lengthscale=1.0)\n",
    "\n",
    "hdo_evaluator = HDO_Evaluator()\n",
    "objective = GPyOpt.core.task.SingleObjective(hdo_evaluator.evaluate)\n",
    "\n",
    "# Gaussian process regression model\n",
    "model = GPyOpt.models.GPModel(kernel=m52, exact_feval=True,\n",
    "                              optimize_restarts=25, verbose=False)\n",
    "\n",
    "# Acquisition function: Expected improvement (EI)\n",
    "domain_space = GPyOpt.Design_space(space=domain)\n",
    "\n",
    "acquisition_optimizer = GPyOpt.optimization.AcquisitionOptimizer(domain_space)\n",
    "acquisition = GPyOpt.acquisitions.AcquisitionEI(model, domain_space, optimizer=acquisition_optimizer)\n",
    "evaluator = GPyOpt.core.evaluators.Sequential(acquisition)\n",
    "\n",
    "# Set Bayesian optimization\n",
    "BO = ModularBayesianOptimization(model, domain_space, objective, acquisition, evaluator, r_init_np)\n",
    "\n",
    "# Maximum time and iterations for Bayesian optimization\n",
    "max_time = None\n",
    "max_iter = 100\n",
    "tolerance = -np.inf\n",
    "\n",
    "# Run Bayesian optimization\n",
    "BO.run_optimization(max_iter=max_iter, max_time=max_time, eps=tolerance, verbosity=False)\n",
    "BO.plot_convergence()"
   ],
   "id": "b2d4346df2a5c5e6",
   "outputs": [
    {
     "name": "stdout",
     "output_type": "stream",
     "text": [
      "현재 BO Iteration: 0\n",
      "[[1.0e+00 1.0e+00 1.0e+00 1.0e+00 1.0e+00 3.0e-02 8.5e-01 1.0e-05 1.5e-02\n",
      "  1.0e+00 1.0e+00 5.0e-02 3.8e-01 1.0e+00 4.4e-01 4.7e-01 1.0e+00 3.5e-01\n",
      "  2.5e-01 2.0e-01 1.0e+00 2.0e-01 1.0e+00 7.5e-01 4.0e-01 7.3e-01 1.0e+00\n",
      "  1.0e+00 0.0e+00 1.0e-01 1.0e+00 1.0e+00 1.0e+00 1.0e+00 1.0e+00]]\n",
      "Success: 1.1469716212160663\n",
      "현재 BO Iteration: 1\n",
      "[[0.28726166 0.1796125  0.05771811 0.63532003 0.18291068 0.86932008\n",
      "  0.25901767 0.2702816  0.08344923 0.63527699 0.08436395 0.95358855\n",
      "  0.98994534 0.06322684 0.83160974 0.7556669  0.07166068 0.80916447\n",
      "  0.65949331 0.40388977 0.40915728 0.62869193 0.06347061 0.0404255\n",
      "  0.50282552 0.27006967 0.69094708 0.7920383  0.78793782 0.68604281\n",
      "  0.64493259 0.01366603 0.03976992 0.72223528 0.96308188]]\n",
      "Success: 1.1308324094724265\n",
      "현재 BO Iteration: 2\n",
      "[[7.24257327e-01 4.78121204e-01 1.47017362e-01 4.79277957e-01\n",
      "  2.88578274e-01 7.65658181e-01 4.97694493e-01 7.58321619e-01\n",
      "  1.70586375e-02 9.86032439e-02 2.35981853e-01 5.06679002e-01\n",
      "  7.66218772e-01 7.63622721e-01 9.99886082e-01 3.53467840e-01\n",
      "  3.66770644e-01 3.98344978e-01 6.31374367e-01 8.82497301e-01\n",
      "  9.69944257e-01 4.13102005e-01 9.48797122e-01 6.80394858e-02\n",
      "  7.75377190e-01 8.75328545e-01 1.96177627e-01 6.67376718e-01\n",
      "  2.75698220e-04 6.71540610e-04 1.52578820e-03 1.16245258e-02\n",
      "  9.30586554e-01 5.94954258e-01 5.94547320e-02]]\n",
      "Success: 1.1447570342694684\n",
      "현재 BO Iteration: 3\n",
      "[[0.49023259 0.6436011  0.20685901 0.16124617 0.44623113 0.55874304\n",
      "  0.25255768 0.83770949 0.99237476 0.11176017 0.76477079 0.58889266\n",
      "  0.47705954 0.93853338 0.71378622 0.336371   0.45606445 0.44261681\n",
      "  0.21469732 0.06023767 0.62161096 0.65253379 0.82606581 0.81018788\n",
      "  0.09609841 0.7686041  0.45187643 0.15320505 0.68339246 0.48343225\n",
      "  0.83271307 0.04127969 0.27433476 0.81676735 0.80554563]]\n",
      "Success: 1.2812920825708631\n",
      "현재 BO Iteration: 4\n",
      "[[0.26972549 0.34236508 0.2531209  0.79684556 0.25283771 0.17314569\n",
      "  0.32509248 0.71051085 0.11688532 0.69032776 0.07063429 0.93271006\n",
      "  0.12865257 0.89485185 0.24023759 0.13530261 0.19307871 0.3557812\n",
      "  0.93036202 0.32726551 0.20575546 0.34276491 0.68753984 0.41375825\n",
      "  0.18770762 0.27018142 0.05714003 0.11250878 0.18190232 0.9575492\n",
      "  0.55171196 0.28586137 0.46264    0.74323538 0.05509915]]\n",
      "Success: 1.0885334480472508\n",
      "현재 BO Iteration: 5\n",
      "[[0.03779431 0.49959207 0.11461304 0.86709653 0.95634367 0.10249749\n",
      "  0.58468289 0.72805341 0.16986721 0.02748367 0.43457564 0.5004194\n",
      "  0.43805571 0.17965164 0.84164668 0.81774942 0.30626723 0.43811884\n",
      "  0.81629793 0.80596477 0.93025646 0.29258637 0.31569562 0.84379942\n",
      "  0.97511919 0.42167637 0.84420733 0.14777192 0.8047582  0.15565743\n",
      "  0.85351438 0.53370273 0.56275001 0.39756583 0.53772001]]\n",
      "Success: 1.1365675124374766\n"
     ]
    },
    {
     "data": {
      "text/plain": [
       "<Figure size 1000x500 with 2 Axes>"
      ],
      "image/png": "[encoded data removed]"
     },
     "metadata": {},
     "output_type": "display_data",
     "jetTransient": {
      "display_id": null
     }
    }
   ],
   "execution_count": 24
  },
  {
   "metadata": {
    "ExecuteTime": {
     "end_time": "2025-09-26T07:30:05.577038Z",
     "start_time": "2025-09-26T07:29:54.587792Z"
    }
   },
   "cell_type": "code",
   "source": [
    "optimal_rxn_coef = BO.x_opt\n",
    "print(optimal_rxn_coef)\n",
    "optimal_rxn_coef[-1] = 1.\n",
    "optimal_result = hdo_evaluator.evaluate(optimal_rxn_coef.reshape(1, -1))"
   ],
   "id": "43039ef2e460f938",
   "outputs": [
    {
     "name": "stdout",
     "output_type": "stream",
     "text": [
      "[0.26972549 0.34236508 0.2531209  0.79684556 0.25283771 0.17314569\n",
      " 0.32509248 0.71051085 0.11688532 0.69032776 0.07063429 0.93271006\n",
      " 0.12865257 0.89485185 0.24023759 0.13530261 0.19307871 0.3557812\n",
      " 0.93036202 0.32726551 0.20575546 0.34276491 0.68753984 0.41375825\n",
      " 0.18770762 0.27018142 0.05714003 0.11250878 0.18190232 0.9575492\n",
      " 0.55171196 0.28586137 0.46264    0.74323538 0.05509915]\n",
      "현재 BO Iteration: 7\n",
      "[[0.26972549 0.34236508 0.2531209  0.79684556 0.25283771 0.17314569\n",
      "  0.32509248 0.71051085 0.11688532 0.69032776 0.07063429 0.93271006\n",
      "  0.12865257 0.89485185 0.24023759 0.13530261 0.19307871 0.3557812\n",
      "  0.93036202 0.32726551 0.20575546 0.34276491 0.68753984 0.41375825\n",
      "  0.18770762 0.27018142 0.05714003 0.11250878 0.18190232 0.9575492\n",
      "  0.55171196 0.28586137 0.46264    0.74323538 1.        ]]\n",
      "Success: 1.0947673502193873\n"
     ]
    }
   ],
   "execution_count": 28
  },
  {
   "metadata": {
    "ExecuteTime": {
     "end_time": "2025-09-26T07:30:08.377880Z",
     "start_time": "2025-09-26T07:30:08.014233Z"
    }
   },
   "cell_type": "code",
   "source": [
    "import matplotlib.pyplot as plt\n",
    "cc = get_carbon_number_composition(208)\n",
    "plt.plot(cc.keys(), cc.values(), '-')\n",
    "plt.plot(target_data.keys(), target_data.values(), 'o')"
   ],
   "id": "e8e97c0566865fa9",
   "outputs": [
    {
     "data": {
      "text/plain": [
       "[<matplotlib.lines.Line2D at 0x1a4cd866a70>]"
      ]
     },
     "execution_count": 29,
     "metadata": {},
     "output_type": "execute_result"
    },
    {
     "data": {
      "text/plain": [
       "<Figure size 640x480 with 1 Axes>"
      ],
      "image/png": "[encoded data removed]"
     },
     "metadata": {},
     "output_type": "display_data",
     "jetTransient": {
      "display_id": null
     }
    }
   ],
   "execution_count": 29
  },
  {
   "metadata": {},
   "cell_type": "markdown",
   "source": [
    "* Improvement가 있긴 한데, long chain components가 너무 많이 남는다 -- 지금 C23-25 분해 반응이 포함 안 되어 있음.\n",
    "* C12H16O2의 physical property parameter가 없어서 B22에서 에러 발생 -- 왜 C12가 SMR 반응기로 들어가는지? Flash에서 trace gas가 흘러감. C12 property 추가하거나 물질 변경.\n",
    "* 150번 정도 iteration을 돌고 나면 aspen이 꺼진다 -- 먼저는 run에서 application 이 인식이 안 되면 다시 잡는 식으로 함수 구조 확장 필요."
   ],
   "id": "d2d32a7503f3310a"
  },
  {
   "metadata": {
    "ExecuteTime": {
     "end_time": "2025-09-26T09:14:38.338797Z",
     "start_time": "2025-09-26T09:14:37.412468Z"
    }
   },
   "cell_type": "code",
   "source": [
    "# Close the file without saving\n",
    "# SaveOption: 0 = Do not save changes\n",
    "#             1 = Save changes\n",
    "#             2 = Prompt the user\n",
    "aspen.Close(0)\n",
    "aspen.Close(0)"
   ],
   "id": "3305af479a1e4539",
   "outputs": [],
   "execution_count": 56
  }
 ],
 "metadata": {
  "kernelspec": {
   "display_name": "Python 3",
   "language": "python",
   "name": "python3"
  },
  "language_info": {
   "codemirror_mode": {
    "name": "ipython",
    "version": 2
   },
   "file_extension": ".py",
   "mimetype": "text/x-python",
   "name": "python",
   "nbconvert_exporter": "python",
   "pygments_lexer": "ipython2",
   "version": "2.7.6"
  }
 },
 "nbformat": 4,
 "nbformat_minor": 5
}
